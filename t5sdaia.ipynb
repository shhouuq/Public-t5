{
  "nbformat": 4,
  "nbformat_minor": 0,
  "metadata": {
    "colab": {
      "provenance": [],
      "authorship_tag": "ABX9TyPAj68bJYU1D7yLizg0Dhet",
      "include_colab_link": true
    },
    "kernelspec": {
      "name": "python3",
      "display_name": "Python 3"
    },
    "language_info": {
      "name": "python"
    }
  },
  "cells": [
    {
      "cell_type": "markdown",
      "metadata": {
        "id": "view-in-github",
        "colab_type": "text"
      },
      "source": [
        "<a href=\"https://colab.research.google.com/github/shhouuq/Public-t5/blob/main/t5sdaia.ipynb\" target=\"_parent\"><img src=\"https://colab.research.google.com/assets/colab-badge.svg\" alt=\"Open In Colab\"/></a>"
      ]
    },
    {
      "cell_type": "code",
      "execution_count": 1,
      "metadata": {
        "id": "1Ajgxs5Df7b9"
      },
      "outputs": [],
      "source": [
        "##this is a coding notebook for sdaia t5 program"
      ]
    },
    {
      "cell_type": "code",
      "source": [],
      "metadata": {
        "id": "ViVC71BdgB-Y"
      },
      "execution_count": null,
      "outputs": []
    }
  ]
}